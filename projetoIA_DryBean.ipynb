{
  "nbformat": 4,
  "nbformat_minor": 0,
  "metadata": {
    "colab": {
      "provenance": []
    },
    "kernelspec": {
      "name": "python3",
      "display_name": "Python 3"
    },
    "language_info": {
      "name": "python"
    }
  },
  "cells": [
    {
      "cell_type": "code",
      "execution_count": null,
      "metadata": {
        "id": "4k3S_Uw2Rqs4"
      },
      "outputs": [],
      "source": [
        "import pandas as pd\n",
        "import matplotlib.pyplot as plt\n",
        "import seaborn as sns\n",
        "import numpy as np\n",
        "from sklearn.model_selection import train_test_split\n",
        "from sklearn.preprocessing import StandardScaler\n"
      ]
    },
    {
      "cell_type": "code",
      "source": [
        "# Carregar o arquivo\n",
        "from google.colab import files\n",
        "uploaded = files.upload()\n",
        "\n",
        "\n",
        "df = pd.read_excel('Dry_Bean_Dataset.xlsx', engine='openpyxl')\n"
      ],
      "metadata": {
        "id": "TaZ9GngEWzW5",
        "colab": {
          "base_uri": "https://localhost:8080/",
          "height": 73
        },
        "outputId": "72082c91-afac-4876-fe8f-c5e1c00fb5d5"
      },
      "execution_count": null,
      "outputs": [
        {
          "output_type": "display_data",
          "data": {
            "text/plain": [
              "<IPython.core.display.HTML object>"
            ],
            "text/html": [
              "\n",
              "     <input type=\"file\" id=\"files-e53358ae-074b-46d8-bf6e-805f56722226\" name=\"files[]\" multiple disabled\n",
              "        style=\"border:none\" />\n",
              "     <output id=\"result-e53358ae-074b-46d8-bf6e-805f56722226\">\n",
              "      Upload widget is only available when the cell has been executed in the\n",
              "      current browser session. Please rerun this cell to enable.\n",
              "      </output>\n",
              "      <script>// Copyright 2017 Google LLC\n",
              "//\n",
              "// Licensed under the Apache License, Version 2.0 (the \"License\");\n",
              "// you may not use this file except in compliance with the License.\n",
              "// You may obtain a copy of the License at\n",
              "//\n",
              "//      http://www.apache.org/licenses/LICENSE-2.0\n",
              "//\n",
              "// Unless required by applicable law or agreed to in writing, software\n",
              "// distributed under the License is distributed on an \"AS IS\" BASIS,\n",
              "// WITHOUT WARRANTIES OR CONDITIONS OF ANY KIND, either express or implied.\n",
              "// See the License for the specific language governing permissions and\n",
              "// limitations under the License.\n",
              "\n",
              "/**\n",
              " * @fileoverview Helpers for google.colab Python module.\n",
              " */\n",
              "(function(scope) {\n",
              "function span(text, styleAttributes = {}) {\n",
              "  const element = document.createElement('span');\n",
              "  element.textContent = text;\n",
              "  for (const key of Object.keys(styleAttributes)) {\n",
              "    element.style[key] = styleAttributes[key];\n",
              "  }\n",
              "  return element;\n",
              "}\n",
              "\n",
              "// Max number of bytes which will be uploaded at a time.\n",
              "const MAX_PAYLOAD_SIZE = 100 * 1024;\n",
              "\n",
              "function _uploadFiles(inputId, outputId) {\n",
              "  const steps = uploadFilesStep(inputId, outputId);\n",
              "  const outputElement = document.getElementById(outputId);\n",
              "  // Cache steps on the outputElement to make it available for the next call\n",
              "  // to uploadFilesContinue from Python.\n",
              "  outputElement.steps = steps;\n",
              "\n",
              "  return _uploadFilesContinue(outputId);\n",
              "}\n",
              "\n",
              "// This is roughly an async generator (not supported in the browser yet),\n",
              "// where there are multiple asynchronous steps and the Python side is going\n",
              "// to poll for completion of each step.\n",
              "// This uses a Promise to block the python side on completion of each step,\n",
              "// then passes the result of the previous step as the input to the next step.\n",
              "function _uploadFilesContinue(outputId) {\n",
              "  const outputElement = document.getElementById(outputId);\n",
              "  const steps = outputElement.steps;\n",
              "\n",
              "  const next = steps.next(outputElement.lastPromiseValue);\n",
              "  return Promise.resolve(next.value.promise).then((value) => {\n",
              "    // Cache the last promise value to make it available to the next\n",
              "    // step of the generator.\n",
              "    outputElement.lastPromiseValue = value;\n",
              "    return next.value.response;\n",
              "  });\n",
              "}\n",
              "\n",
              "/**\n",
              " * Generator function which is called between each async step of the upload\n",
              " * process.\n",
              " * @param {string} inputId Element ID of the input file picker element.\n",
              " * @param {string} outputId Element ID of the output display.\n",
              " * @return {!Iterable<!Object>} Iterable of next steps.\n",
              " */\n",
              "function* uploadFilesStep(inputId, outputId) {\n",
              "  const inputElement = document.getElementById(inputId);\n",
              "  inputElement.disabled = false;\n",
              "\n",
              "  const outputElement = document.getElementById(outputId);\n",
              "  outputElement.innerHTML = '';\n",
              "\n",
              "  const pickedPromise = new Promise((resolve) => {\n",
              "    inputElement.addEventListener('change', (e) => {\n",
              "      resolve(e.target.files);\n",
              "    });\n",
              "  });\n",
              "\n",
              "  const cancel = document.createElement('button');\n",
              "  inputElement.parentElement.appendChild(cancel);\n",
              "  cancel.textContent = 'Cancel upload';\n",
              "  const cancelPromise = new Promise((resolve) => {\n",
              "    cancel.onclick = () => {\n",
              "      resolve(null);\n",
              "    };\n",
              "  });\n",
              "\n",
              "  // Wait for the user to pick the files.\n",
              "  const files = yield {\n",
              "    promise: Promise.race([pickedPromise, cancelPromise]),\n",
              "    response: {\n",
              "      action: 'starting',\n",
              "    }\n",
              "  };\n",
              "\n",
              "  cancel.remove();\n",
              "\n",
              "  // Disable the input element since further picks are not allowed.\n",
              "  inputElement.disabled = true;\n",
              "\n",
              "  if (!files) {\n",
              "    return {\n",
              "      response: {\n",
              "        action: 'complete',\n",
              "      }\n",
              "    };\n",
              "  }\n",
              "\n",
              "  for (const file of files) {\n",
              "    const li = document.createElement('li');\n",
              "    li.append(span(file.name, {fontWeight: 'bold'}));\n",
              "    li.append(span(\n",
              "        `(${file.type || 'n/a'}) - ${file.size} bytes, ` +\n",
              "        `last modified: ${\n",
              "            file.lastModifiedDate ? file.lastModifiedDate.toLocaleDateString() :\n",
              "                                    'n/a'} - `));\n",
              "    const percent = span('0% done');\n",
              "    li.appendChild(percent);\n",
              "\n",
              "    outputElement.appendChild(li);\n",
              "\n",
              "    const fileDataPromise = new Promise((resolve) => {\n",
              "      const reader = new FileReader();\n",
              "      reader.onload = (e) => {\n",
              "        resolve(e.target.result);\n",
              "      };\n",
              "      reader.readAsArrayBuffer(file);\n",
              "    });\n",
              "    // Wait for the data to be ready.\n",
              "    let fileData = yield {\n",
              "      promise: fileDataPromise,\n",
              "      response: {\n",
              "        action: 'continue',\n",
              "      }\n",
              "    };\n",
              "\n",
              "    // Use a chunked sending to avoid message size limits. See b/62115660.\n",
              "    let position = 0;\n",
              "    do {\n",
              "      const length = Math.min(fileData.byteLength - position, MAX_PAYLOAD_SIZE);\n",
              "      const chunk = new Uint8Array(fileData, position, length);\n",
              "      position += length;\n",
              "\n",
              "      const base64 = btoa(String.fromCharCode.apply(null, chunk));\n",
              "      yield {\n",
              "        response: {\n",
              "          action: 'append',\n",
              "          file: file.name,\n",
              "          data: base64,\n",
              "        },\n",
              "      };\n",
              "\n",
              "      let percentDone = fileData.byteLength === 0 ?\n",
              "          100 :\n",
              "          Math.round((position / fileData.byteLength) * 100);\n",
              "      percent.textContent = `${percentDone}% done`;\n",
              "\n",
              "    } while (position < fileData.byteLength);\n",
              "  }\n",
              "\n",
              "  // All done.\n",
              "  yield {\n",
              "    response: {\n",
              "      action: 'complete',\n",
              "    }\n",
              "  };\n",
              "}\n",
              "\n",
              "scope.google = scope.google || {};\n",
              "scope.google.colab = scope.google.colab || {};\n",
              "scope.google.colab._files = {\n",
              "  _uploadFiles,\n",
              "  _uploadFilesContinue,\n",
              "};\n",
              "})(self);\n",
              "</script> "
            ]
          },
          "metadata": {}
        },
        {
          "output_type": "stream",
          "name": "stdout",
          "text": [
            "Saving Dry_Bean_Dataset.xlsx to Dry_Bean_Dataset.xlsx\n"
          ]
        }
      ]
    },
    {
      "cell_type": "code",
      "source": [
        "#analise exploratoria\n",
        "\n",
        "# Mostrar as primeiras linhas do dataset pra análise\n",
        "print(\"Primeiras linhas do dataset:\")\n",
        "print(df.head())\n",
        "\n",
        "# Verificar informações gerais do dataset pra análise\n",
        "print(\"\\nInformações gerais do dataset:\")\n",
        "print(df.info())\n",
        "\n",
        "# Estatísticas descritivas pra análise\n",
        "print(\"\\nEstatísticas descritivas:\")\n",
        "print(df.describe())\n",
        "\n",
        "# Verificar valores ausentes pra análise\n",
        "print(\"\\nValores ausentes em cada coluna:\")\n",
        "print(df.isnull().sum())\n",
        "\n",
        "# Verificar duplicatas pra análise\n",
        "print(\"\\nNúmero de duplicatas:\")\n",
        "print(df.duplicated().sum())"
      ],
      "metadata": {
        "colab": {
          "base_uri": "https://localhost:8080/"
        },
        "id": "7T1xwVEQ8kQc",
        "outputId": "34fcb25f-13ef-4d28-9bf0-a2cc1d81c293"
      },
      "execution_count": null,
      "outputs": [
        {
          "output_type": "stream",
          "name": "stdout",
          "text": [
            "Primeiras linhas do dataset:\n",
            "    Area  Perimeter  MajorAxisLength  MinorAxisLength  AspectRation  \\\n",
            "0  28395    610.291       208.178117       173.888747      1.197191   \n",
            "1  28734    638.018       200.524796       182.734419      1.097356   \n",
            "2  29380    624.110       212.826130       175.931143      1.209713   \n",
            "3  30008    645.884       210.557999       182.516516      1.153638   \n",
            "4  30140    620.134       201.847882       190.279279      1.060798   \n",
            "\n",
            "   Eccentricity  ConvexArea  EquivDiameter    Extent  Solidity  roundness  \\\n",
            "0      0.549812       28715     190.141097  0.763923  0.988856   0.958027   \n",
            "1      0.411785       29172     191.272750  0.783968  0.984986   0.887034   \n",
            "2      0.562727       29690     193.410904  0.778113  0.989559   0.947849   \n",
            "3      0.498616       30724     195.467062  0.782681  0.976696   0.903936   \n",
            "4      0.333680       30417     195.896503  0.773098  0.990893   0.984877   \n",
            "\n",
            "   Compactness  ShapeFactor1  ShapeFactor2  ShapeFactor3  ShapeFactor4  Class  \n",
            "0     0.913358      0.007332      0.003147      0.834222      0.998724  SEKER  \n",
            "1     0.953861      0.006979      0.003564      0.909851      0.998430  SEKER  \n",
            "2     0.908774      0.007244      0.003048      0.825871      0.999066  SEKER  \n",
            "3     0.928329      0.007017      0.003215      0.861794      0.994199  SEKER  \n",
            "4     0.970516      0.006697      0.003665      0.941900      0.999166  SEKER  \n",
            "\n",
            "Informações gerais do dataset:\n",
            "<class 'pandas.core.frame.DataFrame'>\n",
            "RangeIndex: 13611 entries, 0 to 13610\n",
            "Data columns (total 17 columns):\n",
            " #   Column           Non-Null Count  Dtype  \n",
            "---  ------           --------------  -----  \n",
            " 0   Area             13611 non-null  int64  \n",
            " 1   Perimeter        13611 non-null  float64\n",
            " 2   MajorAxisLength  13611 non-null  float64\n",
            " 3   MinorAxisLength  13611 non-null  float64\n",
            " 4   AspectRation     13611 non-null  float64\n",
            " 5   Eccentricity     13611 non-null  float64\n",
            " 6   ConvexArea       13611 non-null  int64  \n",
            " 7   EquivDiameter    13611 non-null  float64\n",
            " 8   Extent           13611 non-null  float64\n",
            " 9   Solidity         13611 non-null  float64\n",
            " 10  roundness        13611 non-null  float64\n",
            " 11  Compactness      13611 non-null  float64\n",
            " 12  ShapeFactor1     13611 non-null  float64\n",
            " 13  ShapeFactor2     13611 non-null  float64\n",
            " 14  ShapeFactor3     13611 non-null  float64\n",
            " 15  ShapeFactor4     13611 non-null  float64\n",
            " 16  Class            13611 non-null  object \n",
            "dtypes: float64(14), int64(2), object(1)\n",
            "memory usage: 1.8+ MB\n",
            "None\n",
            "\n",
            "Estatísticas descritivas:\n",
            "                Area     Perimeter  MajorAxisLength  MinorAxisLength  \\\n",
            "count   13611.000000  13611.000000     13611.000000     13611.000000   \n",
            "mean    53048.284549    855.283459       320.141867       202.270714   \n",
            "std     29324.095717    214.289696        85.694186        44.970091   \n",
            "min     20420.000000    524.736000       183.601165       122.512653   \n",
            "25%     36328.000000    703.523500       253.303633       175.848170   \n",
            "50%     44652.000000    794.941000       296.883367       192.431733   \n",
            "75%     61332.000000    977.213000       376.495012       217.031741   \n",
            "max    254616.000000   1985.370000       738.860153       460.198497   \n",
            "\n",
            "       AspectRation  Eccentricity     ConvexArea  EquivDiameter        Extent  \\\n",
            "count  13611.000000  13611.000000   13611.000000   13611.000000  13611.000000   \n",
            "mean       1.583242      0.750895   53768.200206     253.064220      0.749733   \n",
            "std        0.246678      0.092002   29774.915817      59.177120      0.049086   \n",
            "min        1.024868      0.218951   20684.000000     161.243764      0.555315   \n",
            "25%        1.432307      0.715928   36714.500000     215.068003      0.718634   \n",
            "50%        1.551124      0.764441   45178.000000     238.438026      0.759859   \n",
            "75%        1.707109      0.810466   62294.000000     279.446467      0.786851   \n",
            "max        2.430306      0.911423  263261.000000     569.374358      0.866195   \n",
            "\n",
            "           Solidity     roundness   Compactness  ShapeFactor1  ShapeFactor2  \\\n",
            "count  13611.000000  13611.000000  13611.000000  13611.000000  13611.000000   \n",
            "mean       0.987143      0.873282      0.799864      0.006564      0.001716   \n",
            "std        0.004660      0.059520      0.061713      0.001128      0.000596   \n",
            "min        0.919246      0.489618      0.640577      0.002778      0.000564   \n",
            "25%        0.985670      0.832096      0.762469      0.005900      0.001154   \n",
            "50%        0.988283      0.883157      0.801277      0.006645      0.001694   \n",
            "75%        0.990013      0.916869      0.834270      0.007271      0.002170   \n",
            "max        0.994677      0.990685      0.987303      0.010451      0.003665   \n",
            "\n",
            "       ShapeFactor3  ShapeFactor4  \n",
            "count  13611.000000  13611.000000  \n",
            "mean       0.643590      0.995063  \n",
            "std        0.098996      0.004366  \n",
            "min        0.410339      0.947687  \n",
            "25%        0.581359      0.993703  \n",
            "50%        0.642044      0.996386  \n",
            "75%        0.696006      0.997883  \n",
            "max        0.974767      0.999733  \n",
            "\n",
            "Valores ausentes em cada coluna:\n",
            "Area               0\n",
            "Perimeter          0\n",
            "MajorAxisLength    0\n",
            "MinorAxisLength    0\n",
            "AspectRation       0\n",
            "Eccentricity       0\n",
            "ConvexArea         0\n",
            "EquivDiameter      0\n",
            "Extent             0\n",
            "Solidity           0\n",
            "roundness          0\n",
            "Compactness        0\n",
            "ShapeFactor1       0\n",
            "ShapeFactor2       0\n",
            "ShapeFactor3       0\n",
            "ShapeFactor4       0\n",
            "Class              0\n",
            "dtype: int64\n",
            "\n",
            "Número de duplicatas:\n",
            "68\n"
          ]
        }
      ]
    },
    {
      "cell_type": "markdown",
      "source": [
        "Dividir os dados em características (X) e rótulo (y)\n"
      ],
      "metadata": {
        "id": "3CfYzzBIqA72"
      }
    },
    {
      "cell_type": "code",
      "source": [
        "# Supondo que a última coluna seja o rótulo\n",
        "X = df.iloc[:, :-1].values\n",
        "y = df.iloc[:, -1].values\n",
        "\n",
        "\n",
        "X_train, X_test, y_train, y_test = train_test_split(X, y, test_size=0.3, random_state=42)\n"
      ],
      "metadata": {
        "id": "8AHPvYa1p3h2"
      },
      "execution_count": null,
      "outputs": []
    },
    {
      "cell_type": "markdown",
      "source": [
        " Normalizar ou padronizar os dados\n"
      ],
      "metadata": {
        "id": "FrZXxwEduM3X"
      }
    },
    {
      "cell_type": "code",
      "source": [
        "scaler = StandardScaler()\n",
        "X_train = scaler.fit_transform(X_train)\n",
        "X_test = scaler.transform(X_test)\n"
      ],
      "metadata": {
        "id": "YOrQqicDuK7z"
      },
      "execution_count": null,
      "outputs": []
    },
    {
      "cell_type": "markdown",
      "source": [
        "Importar os modelos necessários"
      ],
      "metadata": {
        "id": "i4Qo44puufbv"
      }
    },
    {
      "cell_type": "code",
      "source": [
        "from sklearn.linear_model import LogisticRegression\n",
        "from sklearn.neighbors import KNeighborsClassifier\n",
        "from sklearn.ensemble import RandomForestClassifier\n",
        "from sklearn.svm import SVC\n",
        "from sklearn.neural_network import MLPClassifier"
      ],
      "metadata": {
        "id": "QQ4ADXgjuiDq"
      },
      "execution_count": null,
      "outputs": []
    },
    {
      "cell_type": "markdown",
      "source": [
        " Treinar cada modelo"
      ],
      "metadata": {
        "id": "tsnrgiTQuq0T"
      }
    },
    {
      "cell_type": "code",
      "source": [
        "# 1. Regressão Logística\n",
        "logreg = LogisticRegression(max_iter=1000)\n",
        "logreg.fit(X_train, y_train)\n",
        "\n",
        "# 2. K-Nearest Neighbors (KNN)\n",
        "knn = KNeighborsClassifier()\n",
        "knn.fit(X_train, y_train)\n",
        "\n",
        "# 3. Random Forest\n",
        "rf = RandomForestClassifier(n_estimators=100, random_state=42)\n",
        "rf.fit(X_train, y_train)\n",
        "\n",
        "# 4. Support Vector Machine (SVM)\n",
        "svm = SVC()\n",
        "svm.fit(X_train, y_train)\n",
        "\n",
        "# 5. Rede Neural (MLP)\n",
        "mlp = MLPClassifier(max_iter=1000, random_state=42)\n",
        "mlp.fit(X_train, y_train)\n"
      ],
      "metadata": {
        "id": "bFzfQYBButNr",
        "outputId": "d33baefa-1796-420b-e501-746b8b746e2b",
        "colab": {
          "base_uri": "https://localhost:8080/",
          "height": 75
        }
      },
      "execution_count": null,
      "outputs": [
        {
          "output_type": "execute_result",
          "data": {
            "text/plain": [
              "MLPClassifier(max_iter=1000, random_state=42)"
            ],
            "text/html": [
              "<style>#sk-container-id-1 {color: black;}#sk-container-id-1 pre{padding: 0;}#sk-container-id-1 div.sk-toggleable {background-color: white;}#sk-container-id-1 label.sk-toggleable__label {cursor: pointer;display: block;width: 100%;margin-bottom: 0;padding: 0.3em;box-sizing: border-box;text-align: center;}#sk-container-id-1 label.sk-toggleable__label-arrow:before {content: \"▸\";float: left;margin-right: 0.25em;color: #696969;}#sk-container-id-1 label.sk-toggleable__label-arrow:hover:before {color: black;}#sk-container-id-1 div.sk-estimator:hover label.sk-toggleable__label-arrow:before {color: black;}#sk-container-id-1 div.sk-toggleable__content {max-height: 0;max-width: 0;overflow: hidden;text-align: left;background-color: #f0f8ff;}#sk-container-id-1 div.sk-toggleable__content pre {margin: 0.2em;color: black;border-radius: 0.25em;background-color: #f0f8ff;}#sk-container-id-1 input.sk-toggleable__control:checked~div.sk-toggleable__content {max-height: 200px;max-width: 100%;overflow: auto;}#sk-container-id-1 input.sk-toggleable__control:checked~label.sk-toggleable__label-arrow:before {content: \"▾\";}#sk-container-id-1 div.sk-estimator input.sk-toggleable__control:checked~label.sk-toggleable__label {background-color: #d4ebff;}#sk-container-id-1 div.sk-label input.sk-toggleable__control:checked~label.sk-toggleable__label {background-color: #d4ebff;}#sk-container-id-1 input.sk-hidden--visually {border: 0;clip: rect(1px 1px 1px 1px);clip: rect(1px, 1px, 1px, 1px);height: 1px;margin: -1px;overflow: hidden;padding: 0;position: absolute;width: 1px;}#sk-container-id-1 div.sk-estimator {font-family: monospace;background-color: #f0f8ff;border: 1px dotted black;border-radius: 0.25em;box-sizing: border-box;margin-bottom: 0.5em;}#sk-container-id-1 div.sk-estimator:hover {background-color: #d4ebff;}#sk-container-id-1 div.sk-parallel-item::after {content: \"\";width: 100%;border-bottom: 1px solid gray;flex-grow: 1;}#sk-container-id-1 div.sk-label:hover label.sk-toggleable__label {background-color: #d4ebff;}#sk-container-id-1 div.sk-serial::before {content: \"\";position: absolute;border-left: 1px solid gray;box-sizing: border-box;top: 0;bottom: 0;left: 50%;z-index: 0;}#sk-container-id-1 div.sk-serial {display: flex;flex-direction: column;align-items: center;background-color: white;padding-right: 0.2em;padding-left: 0.2em;position: relative;}#sk-container-id-1 div.sk-item {position: relative;z-index: 1;}#sk-container-id-1 div.sk-parallel {display: flex;align-items: stretch;justify-content: center;background-color: white;position: relative;}#sk-container-id-1 div.sk-item::before, #sk-container-id-1 div.sk-parallel-item::before {content: \"\";position: absolute;border-left: 1px solid gray;box-sizing: border-box;top: 0;bottom: 0;left: 50%;z-index: -1;}#sk-container-id-1 div.sk-parallel-item {display: flex;flex-direction: column;z-index: 1;position: relative;background-color: white;}#sk-container-id-1 div.sk-parallel-item:first-child::after {align-self: flex-end;width: 50%;}#sk-container-id-1 div.sk-parallel-item:last-child::after {align-self: flex-start;width: 50%;}#sk-container-id-1 div.sk-parallel-item:only-child::after {width: 0;}#sk-container-id-1 div.sk-dashed-wrapped {border: 1px dashed gray;margin: 0 0.4em 0.5em 0.4em;box-sizing: border-box;padding-bottom: 0.4em;background-color: white;}#sk-container-id-1 div.sk-label label {font-family: monospace;font-weight: bold;display: inline-block;line-height: 1.2em;}#sk-container-id-1 div.sk-label-container {text-align: center;}#sk-container-id-1 div.sk-container {/* jupyter's `normalize.less` sets `[hidden] { display: none; }` but bootstrap.min.css set `[hidden] { display: none !important; }` so we also need the `!important` here to be able to override the default hidden behavior on the sphinx rendered scikit-learn.org. See: https://github.com/scikit-learn/scikit-learn/issues/21755 */display: inline-block !important;position: relative;}#sk-container-id-1 div.sk-text-repr-fallback {display: none;}</style><div id=\"sk-container-id-1\" class=\"sk-top-container\"><div class=\"sk-text-repr-fallback\"><pre>MLPClassifier(max_iter=1000, random_state=42)</pre><b>In a Jupyter environment, please rerun this cell to show the HTML representation or trust the notebook. <br />On GitHub, the HTML representation is unable to render, please try loading this page with nbviewer.org.</b></div><div class=\"sk-container\" hidden><div class=\"sk-item\"><div class=\"sk-estimator sk-toggleable\"><input class=\"sk-toggleable__control sk-hidden--visually\" id=\"sk-estimator-id-1\" type=\"checkbox\" checked><label for=\"sk-estimator-id-1\" class=\"sk-toggleable__label sk-toggleable__label-arrow\">MLPClassifier</label><div class=\"sk-toggleable__content\"><pre>MLPClassifier(max_iter=1000, random_state=42)</pre></div></div></div></div></div>"
            ]
          },
          "metadata": {},
          "execution_count": 10
        }
      ]
    },
    {
      "cell_type": "markdown",
      "source": [
        "Importar as funções para cálculo de métricas"
      ],
      "metadata": {
        "id": "3xo20j9pu6fN"
      }
    },
    {
      "cell_type": "code",
      "source": [
        "from sklearn.metrics import accuracy_score, f1_score\n"
      ],
      "metadata": {
        "id": "WYgBdt3Yu7pZ"
      },
      "execution_count": null,
      "outputs": []
    },
    {
      "cell_type": "markdown",
      "source": [
        "Calcular as métricas para cada modelo"
      ],
      "metadata": {
        "id": "RMDZInDVu_aF"
      }
    },
    {
      "cell_type": "code",
      "source": [
        "# Função para calcular métricas\n",
        "def evaluate_model(model, X_train, y_train, X_test, y_test):\n",
        "    y_train_pred = model.predict(X_train)\n",
        "    y_test_pred = model.predict(X_test)\n",
        "\n",
        "    train_accuracy = accuracy_score(y_train, y_train_pred)\n",
        "    test_accuracy = accuracy_score(y_test, y_test_pred)\n",
        "\n",
        "    train_f1 = f1_score(y_train, y_train_pred, average='weighted')\n",
        "    test_f1 = f1_score(y_test, y_test_pred, average='weighted')\n",
        "\n",
        "    return train_accuracy, test_accuracy, train_f1, test_f1\n",
        "\n",
        "# Avaliando cada modelo\n",
        "models = [logreg, knn, rf, svm, mlp]\n",
        "model_names = ['Logistic Regression', 'KNN', 'Random Forest', 'SVM', 'MLP']\n",
        "results = {}\n",
        "\n",
        "for model, name in zip(models, model_names):\n",
        "    train_acc, test_acc, train_f1, test_f1 = evaluate_model(model, X_train, y_train, X_test, y_test)\n",
        "    results[name] = {\n",
        "        'Train Accuracy': train_acc,\n",
        "        'Test Accuracy': test_acc,\n",
        "        'Train F1-Score': train_f1,\n",
        "        'Test F1-Score': test_f1\n",
        "    }\n",
        "\n",
        "# Exibindo os resultados\n",
        "results_df = pd.DataFrame(results).T\n",
        "print(results_df)\n"
      ],
      "metadata": {
        "id": "trB90I51vAHh",
        "outputId": "f26f9593-d785-4d74-9287-0abacbb6b285",
        "colab": {
          "base_uri": "https://localhost:8080/"
        }
      },
      "execution_count": null,
      "outputs": [
        {
          "output_type": "stream",
          "name": "stdout",
          "text": [
            "                     Train Accuracy  Test Accuracy  Train F1-Score  \\\n",
            "Logistic Regression        0.925475       0.922870        0.925558   \n",
            "KNN                        0.941325       0.921645        0.941375   \n",
            "Random Forest              1.000000       0.922625        1.000000   \n",
            "SVM                        0.930198       0.932909        0.930314   \n",
            "MLP                        0.939120       0.932664        0.939130   \n",
            "\n",
            "                     Test F1-Score  \n",
            "Logistic Regression       0.923256  \n",
            "KNN                       0.921767  \n",
            "Random Forest             0.922656  \n",
            "SVM                       0.933080  \n",
            "MLP                       0.932773  \n"
          ]
        }
      ]
    }
  ]
}